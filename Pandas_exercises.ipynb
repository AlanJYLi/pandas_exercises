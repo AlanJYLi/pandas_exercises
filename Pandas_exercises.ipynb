{
 "cells": [
  {
   "cell_type": "markdown",
   "metadata": {},
   "source": [
    "# Pandas Exercises\n",
    "### By: Jingyu Li"
   ]
  },
  {
   "cell_type": "code",
   "execution_count": 1,
   "metadata": {},
   "outputs": [],
   "source": [
    "import numpy as np\n",
    "import pandas as pd\n",
    "from datetime import datetime, timedelta"
   ]
  },
  {
   "cell_type": "markdown",
   "metadata": {},
   "source": [
    "## 1. Pandas walkthrough: FIFA 20 complete player dataset\n",
    "\n",
    "#### **Context & Acknowledgements**\n",
    "The dataset includes the players data for the Career Mode from FIFA 20. The dataset is download from https://www.kaggle.com/stefanoleone992/fifa-20-complete-player-dataset. The original data was scraped from the publicly available website https://sofifa.com.\n",
    "\n",
    "#### **Dataset Introduction**\n",
    "The dataset has been loaded. All columns are self-explanatory."
   ]
  },
  {
   "cell_type": "code",
   "execution_count": 2,
   "metadata": {},
   "outputs": [],
   "source": [
    "df = pd.read_csv(r'data/FIFA20_player.csv')"
   ]
  },
  {
   "cell_type": "code",
   "execution_count": 3,
   "metadata": {},
   "outputs": [
    {
     "data": {
      "text/html": [
       "<div>\n",
       "<style scoped>\n",
       "    .dataframe tbody tr th:only-of-type {\n",
       "        vertical-align: middle;\n",
       "    }\n",
       "\n",
       "    .dataframe tbody tr th {\n",
       "        vertical-align: top;\n",
       "    }\n",
       "\n",
       "    .dataframe thead th {\n",
       "        text-align: right;\n",
       "    }\n",
       "</style>\n",
       "<table border=\"1\" class=\"dataframe\">\n",
       "  <thead>\n",
       "    <tr style=\"text-align: right;\">\n",
       "      <th></th>\n",
       "      <th>id</th>\n",
       "      <th>short_name</th>\n",
       "      <th>long_name</th>\n",
       "      <th>age</th>\n",
       "      <th>dob</th>\n",
       "      <th>height_cm</th>\n",
       "      <th>weight_kg</th>\n",
       "      <th>nationality</th>\n",
       "      <th>club</th>\n",
       "      <th>overall_score</th>\n",
       "      <th>value_eur</th>\n",
       "      <th>wage_eur</th>\n",
       "      <th>team_position</th>\n",
       "    </tr>\n",
       "  </thead>\n",
       "  <tbody>\n",
       "    <tr>\n",
       "      <th>0</th>\n",
       "      <td>158023</td>\n",
       "      <td>L. Messi</td>\n",
       "      <td>Lionel Andrés Messi Cuccittini</td>\n",
       "      <td>32.0</td>\n",
       "      <td>6/24/1987</td>\n",
       "      <td>170.0</td>\n",
       "      <td>72.0</td>\n",
       "      <td>Argentina</td>\n",
       "      <td>FC Barcelona</td>\n",
       "      <td>94.0</td>\n",
       "      <td>95500000.0</td>\n",
       "      <td>565000.0</td>\n",
       "      <td>RW</td>\n",
       "    </tr>\n",
       "    <tr>\n",
       "      <th>1</th>\n",
       "      <td>20801</td>\n",
       "      <td>Cristiano Ronaldo</td>\n",
       "      <td>Cristiano Ronaldo dos Santos Aveiro</td>\n",
       "      <td>34.0</td>\n",
       "      <td>2/5/1985</td>\n",
       "      <td>187.0</td>\n",
       "      <td>83.0</td>\n",
       "      <td>Portugal</td>\n",
       "      <td>Juventus</td>\n",
       "      <td>93.0</td>\n",
       "      <td>58500000.0</td>\n",
       "      <td>405000.0</td>\n",
       "      <td>LW</td>\n",
       "    </tr>\n",
       "    <tr>\n",
       "      <th>2</th>\n",
       "      <td>190871</td>\n",
       "      <td>Neymar Jr</td>\n",
       "      <td>Neymar da Silva Santos Junior</td>\n",
       "      <td>27.0</td>\n",
       "      <td>2/5/1992</td>\n",
       "      <td>175.0</td>\n",
       "      <td>68.0</td>\n",
       "      <td>Brazil</td>\n",
       "      <td>Paris Saint-Germain</td>\n",
       "      <td>92.0</td>\n",
       "      <td>105500000.0</td>\n",
       "      <td>290000.0</td>\n",
       "      <td>CAM</td>\n",
       "    </tr>\n",
       "    <tr>\n",
       "      <th>3</th>\n",
       "      <td>200389</td>\n",
       "      <td>J. Oblak</td>\n",
       "      <td>Jan Oblak</td>\n",
       "      <td>26.0</td>\n",
       "      <td>1/7/1993</td>\n",
       "      <td>188.0</td>\n",
       "      <td>87.0</td>\n",
       "      <td>Slovenia</td>\n",
       "      <td>Atlético Madrid</td>\n",
       "      <td>91.0</td>\n",
       "      <td>77500000.0</td>\n",
       "      <td>125000.0</td>\n",
       "      <td>GK</td>\n",
       "    </tr>\n",
       "    <tr>\n",
       "      <th>4</th>\n",
       "      <td>183277</td>\n",
       "      <td>E. Hazard</td>\n",
       "      <td>Eden Hazard</td>\n",
       "      <td>28.0</td>\n",
       "      <td>1/7/1991</td>\n",
       "      <td>175.0</td>\n",
       "      <td>74.0</td>\n",
       "      <td>Belgium</td>\n",
       "      <td>Real Madrid</td>\n",
       "      <td>91.0</td>\n",
       "      <td>90000000.0</td>\n",
       "      <td>470000.0</td>\n",
       "      <td>LW</td>\n",
       "    </tr>\n",
       "  </tbody>\n",
       "</table>\n",
       "</div>"
      ],
      "text/plain": [
       "       id         short_name                            long_name   age  \\\n",
       "0  158023           L. Messi       Lionel Andrés Messi Cuccittini  32.0   \n",
       "1   20801  Cristiano Ronaldo  Cristiano Ronaldo dos Santos Aveiro  34.0   \n",
       "2  190871          Neymar Jr        Neymar da Silva Santos Junior  27.0   \n",
       "3  200389           J. Oblak                            Jan Oblak  26.0   \n",
       "4  183277          E. Hazard                          Eden Hazard  28.0   \n",
       "\n",
       "         dob  height_cm  weight_kg nationality                 club  \\\n",
       "0  6/24/1987      170.0       72.0   Argentina         FC Barcelona   \n",
       "1   2/5/1985      187.0       83.0    Portugal             Juventus   \n",
       "2   2/5/1992      175.0       68.0      Brazil  Paris Saint-Germain   \n",
       "3   1/7/1993      188.0       87.0    Slovenia      Atlético Madrid   \n",
       "4   1/7/1991      175.0       74.0     Belgium          Real Madrid   \n",
       "\n",
       "   overall_score    value_eur  wage_eur team_position  \n",
       "0           94.0   95500000.0  565000.0            RW  \n",
       "1           93.0   58500000.0  405000.0            LW  \n",
       "2           92.0  105500000.0  290000.0           CAM  \n",
       "3           91.0   77500000.0  125000.0            GK  \n",
       "4           91.0   90000000.0  470000.0            LW  "
      ]
     },
     "execution_count": 3,
     "metadata": {},
     "output_type": "execute_result"
    }
   ],
   "source": [
    "df.head()"
   ]
  },
  {
   "cell_type": "markdown",
   "metadata": {},
   "source": [
    "### 1.1 Handling Missing Data"
   ]
  },
  {
   "cell_type": "code",
   "execution_count": 4,
   "metadata": {},
   "outputs": [],
   "source": [
    "# Q1: count the number of missing values in each column\n",
    "# Note: for all questions, either modify \"df\" inplace or assign the new dataframe to \"df\"\n"
   ]
  },
  {
   "cell_type": "code",
   "execution_count": 5,
   "metadata": {},
   "outputs": [],
   "source": [
    "# Q2: add a new category \"unknown\" into feature team_position\n"
   ]
  },
  {
   "cell_type": "code",
   "execution_count": 6,
   "metadata": {},
   "outputs": [],
   "source": [
    "# Q3: impute missing values in value_eur and wage_eur by median of the column\n"
   ]
  },
  {
   "cell_type": "code",
   "execution_count": 7,
   "metadata": {},
   "outputs": [],
   "source": [
    "# Q4: impute missing values in overall_score by mean of all players' score in the same club\n"
   ]
  },
  {
   "cell_type": "code",
   "execution_count": 8,
   "metadata": {},
   "outputs": [],
   "source": [
    "# Q5: drop the rows with missing value\n"
   ]
  },
  {
   "cell_type": "markdown",
   "metadata": {},
   "source": [
    "### 1.2 Data Transformation"
   ]
  },
  {
   "cell_type": "code",
   "execution_count": 9,
   "metadata": {},
   "outputs": [],
   "source": [
    "# Q6: check if there is any duplicate row in the dataset. If yes, remove the duplicate row\n"
   ]
  },
  {
   "cell_type": "code",
   "execution_count": 10,
   "metadata": {},
   "outputs": [],
   "source": [
    "# Q7: transform nationality into uppercase\n"
   ]
  },
  {
   "cell_type": "code",
   "execution_count": 11,
   "metadata": {},
   "outputs": [],
   "source": [
    "# Q8: transform the format of club name\n",
    "# example: Real Madrid --> Real_Madrid\n"
   ]
  },
  {
   "cell_type": "code",
   "execution_count": 12,
   "metadata": {},
   "outputs": [],
   "source": [
    "# Q9: create a feature age_bin based on age\n",
    "# the bins are (0,18], (18,22], (22,28], (28, 35], (35,100] and name each bin as b1, b2, b3, b4, b5\n"
   ]
  },
  {
   "cell_type": "code",
   "execution_count": 13,
   "metadata": {},
   "outputs": [],
   "source": [
    "# Q10: count the frequency of each age_bin\n"
   ]
  },
  {
   "cell_type": "code",
   "execution_count": 14,
   "metadata": {},
   "outputs": [],
   "source": [
    "# Q11: create a feature height_bin based on height_cm, and cut into quantiles (0, 0.1, 0.2, ..., 0.9, 1)\n"
   ]
  },
  {
   "cell_type": "code",
   "execution_count": 15,
   "metadata": {},
   "outputs": [],
   "source": [
    "# Q12: create dummy variables based on team_position in the DataFrame\n"
   ]
  },
  {
   "cell_type": "code",
   "execution_count": 16,
   "metadata": {},
   "outputs": [],
   "source": [
    "# Q13: calculate BMI for each player: BMI = weight (in kg) / height (in m)**2\n"
   ]
  },
  {
   "cell_type": "code",
   "execution_count": 17,
   "metadata": {},
   "outputs": [],
   "source": [
    "# Q14: create a variable: standard_bmi which equals 1 if BMI in [18,24] else 0\n"
   ]
  },
  {
   "cell_type": "markdown",
   "metadata": {},
   "source": [
    "### 1.3 Data Wrangling"
   ]
  },
  {
   "cell_type": "code",
   "execution_count": 18,
   "metadata": {},
   "outputs": [],
   "source": [
    "# Q15: sort the DataFrame according to weight_kg (high to low) and height_cm (if weights are same, low to high)\n"
   ]
  },
  {
   "cell_type": "code",
   "execution_count": 19,
   "metadata": {},
   "outputs": [],
   "source": [
    "# Q16: sort the DataFrame generated in Q12 according to row index (low to high)\n"
   ]
  },
  {
   "cell_type": "code",
   "execution_count": 20,
   "metadata": {},
   "outputs": [
    {
     "name": "stdout",
     "output_type": "stream",
     "text": [
      "<class 'pandas.core.frame.DataFrame'>\n",
      "RangeIndex: 17770 entries, 0 to 17769\n",
      "Data columns (total 4 columns):\n",
      "sofifa_id        17770 non-null int64\n",
      "short_name       17770 non-null object\n",
      "weight_kg        17770 non-null int64\n",
      "overall_score    17770 non-null int64\n",
      "dtypes: int64(3), object(1)\n",
      "memory usage: 555.4+ KB\n"
     ]
    }
   ],
   "source": [
    "data19 = pd.read_csv(r'data/FIFA19_player.csv')\n",
    "data19.info()"
   ]
  },
  {
   "cell_type": "code",
   "execution_count": 21,
   "metadata": {},
   "outputs": [
    {
     "data": {
      "text/html": [
       "<div>\n",
       "<style scoped>\n",
       "    .dataframe tbody tr th:only-of-type {\n",
       "        vertical-align: middle;\n",
       "    }\n",
       "\n",
       "    .dataframe tbody tr th {\n",
       "        vertical-align: top;\n",
       "    }\n",
       "\n",
       "    .dataframe thead th {\n",
       "        text-align: right;\n",
       "    }\n",
       "</style>\n",
       "<table border=\"1\" class=\"dataframe\">\n",
       "  <thead>\n",
       "    <tr style=\"text-align: right;\">\n",
       "      <th></th>\n",
       "      <th>sofifa_id</th>\n",
       "      <th>short_name</th>\n",
       "      <th>variable</th>\n",
       "      <th>value</th>\n",
       "    </tr>\n",
       "  </thead>\n",
       "  <tbody>\n",
       "    <tr>\n",
       "      <th>0</th>\n",
       "      <td>164</td>\n",
       "      <td>G. Pinzi</td>\n",
       "      <td>overall_score</td>\n",
       "      <td>70</td>\n",
       "    </tr>\n",
       "    <tr>\n",
       "      <th>1</th>\n",
       "      <td>164</td>\n",
       "      <td>G. Pinzi</td>\n",
       "      <td>weight_kg</td>\n",
       "      <td>76</td>\n",
       "    </tr>\n",
       "    <tr>\n",
       "      <th>2</th>\n",
       "      <td>657</td>\n",
       "      <td>D. Vaughan</td>\n",
       "      <td>overall_score</td>\n",
       "      <td>66</td>\n",
       "    </tr>\n",
       "    <tr>\n",
       "      <th>3</th>\n",
       "      <td>657</td>\n",
       "      <td>D. Vaughan</td>\n",
       "      <td>weight_kg</td>\n",
       "      <td>70</td>\n",
       "    </tr>\n",
       "    <tr>\n",
       "      <th>4</th>\n",
       "      <td>768</td>\n",
       "      <td>Felipe</td>\n",
       "      <td>overall_score</td>\n",
       "      <td>75</td>\n",
       "    </tr>\n",
       "  </tbody>\n",
       "</table>\n",
       "</div>"
      ],
      "text/plain": [
       "   sofifa_id  short_name       variable  value\n",
       "0        164    G. Pinzi  overall_score     70\n",
       "1        164    G. Pinzi      weight_kg     76\n",
       "2        657  D. Vaughan  overall_score     66\n",
       "3        657  D. Vaughan      weight_kg     70\n",
       "4        768      Felipe  overall_score     75"
      ]
     },
     "execution_count": 21,
     "metadata": {},
     "output_type": "execute_result"
    }
   ],
   "source": [
    "practice = pd.melt(data19, ['sofifa_id', 'short_name']).sort_values(by=['sofifa_id']).reset_index().drop('index', axis=1)\n",
    "practice.head()"
   ]
  },
  {
   "cell_type": "code",
   "execution_count": 22,
   "metadata": {},
   "outputs": [],
   "source": [
    "# Q17: the DataFrame \"practice\" is in \"long\" format, transform it into 'wide' format (reverse operation of pd.melt)\n",
    "# then merge the players' weight_kg and overall_score into the DataFrame of FIFA2020\n"
   ]
  },
  {
   "cell_type": "code",
   "execution_count": 23,
   "metadata": {},
   "outputs": [],
   "source": [
    "# Q18: create a variable: score_change which equals to\n",
    "# - \"increase\" if overall_score/overall_score-1 >= 2%\n",
    "# - \"decrease\" if overall_score/overall_score-1 >= -2%\n",
    "# - otherwise \"equal\"\n",
    "\n",
    "# then count the number of players in each category\n"
   ]
  },
  {
   "cell_type": "markdown",
   "metadata": {},
   "source": [
    "### 1.4 Data Aggregation"
   ]
  },
  {
   "cell_type": "code",
   "execution_count": 24,
   "metadata": {},
   "outputs": [],
   "source": [
    "# Q19: calculate the average players' overall_score of each club\n"
   ]
  },
  {
   "cell_type": "code",
   "execution_count": 25,
   "metadata": {},
   "outputs": [],
   "source": [
    "# Q20: calculate the median value_eur for each team_position and age_bin (group by the two columns)\n",
    "# then pivot the index of age_bin to column index\n"
   ]
  },
  {
   "cell_type": "code",
   "execution_count": 26,
   "metadata": {},
   "outputs": [],
   "source": [
    "# Q21: calculate the following value for each team_position: \n",
    "# - wage_eur: median, max()-min()\n",
    "# - BMI: standard deviation, max, min, max()-min()\n",
    "# - age: mean\n",
    "\n",
    "# then change the column index to one level and find a proper way to rename the column index, e.g. wage_eur_median\n"
   ]
  },
  {
   "cell_type": "code",
   "execution_count": 27,
   "metadata": {},
   "outputs": [],
   "source": [
    "# Q22: find the top 5 valuable player (value_eur) in each team_position\n"
   ]
  },
  {
   "cell_type": "code",
   "execution_count": 28,
   "metadata": {},
   "outputs": [],
   "source": [
    "# Q23: calculate the weighted average overall_score of each age_bin\n",
    "df['personal_weight'] = np.random.uniform(0,1,(df.shape[0],1)) # don't remove\n"
   ]
  },
  {
   "cell_type": "code",
   "execution_count": 29,
   "metadata": {},
   "outputs": [],
   "source": [
    "# Q24: calculate the correlation coefficients between height_cm and weight_kg for each team_position\n"
   ]
  },
  {
   "cell_type": "markdown",
   "metadata": {},
   "source": [
    "## 2. Pandas on Time Series"
   ]
  },
  {
   "cell_type": "markdown",
   "metadata": {},
   "source": [
    "### 2.1 Date and Time Data Types: Basic"
   ]
  },
  {
   "cell_type": "code",
   "execution_count": 30,
   "metadata": {},
   "outputs": [],
   "source": [
    "# Q25: change column dob's dtype to datetime\n"
   ]
  },
  {
   "cell_type": "code",
   "execution_count": 31,
   "metadata": {},
   "outputs": [],
   "source": [
    "# Q26: count the number of players born in different months (01, 02, ..., 11, 12)\n"
   ]
  },
  {
   "cell_type": "markdown",
   "metadata": {},
   "source": [
    "### 2.2 Time Series: Indexing and Slicing\n",
    "\n",
    "#### **Context & Acknowledgements**\n",
    "This is a dataset hosted by the City of New York. It includes the daily number of individuals residing in the Department of Homeless Services (DHS) shelter system. The dataset is download from https://www.kaggle.com/new-york-city/nyc-dhs-daily-report. The orginal dataset is maintained using Socrata's API and Kaggle's API.\n",
    "\n",
    "#### **Dataset Introduction**\n",
    "The dataset has been loaded. All columns are self-explanatory. The dataset is modified for exercising purpose. It may not reflect the real statistics."
   ]
  },
  {
   "cell_type": "code",
   "execution_count": 32,
   "metadata": {},
   "outputs": [],
   "source": [
    "dhs = pd.read_csv(r'data/dhs_daily_report.csv')\n",
    "dhs['Date'] = pd.to_datetime(dhs['Date'])\n",
    "dhs = dhs.set_index('Date')\n",
    "dhs = dhs.sort_index(axis=0)"
   ]
  },
  {
   "cell_type": "code",
   "execution_count": 33,
   "metadata": {},
   "outputs": [
    {
     "data": {
      "text/html": [
       "<div>\n",
       "<style scoped>\n",
       "    .dataframe tbody tr th:only-of-type {\n",
       "        vertical-align: middle;\n",
       "    }\n",
       "\n",
       "    .dataframe tbody tr th {\n",
       "        vertical-align: top;\n",
       "    }\n",
       "\n",
       "    .dataframe thead th {\n",
       "        text-align: right;\n",
       "    }\n",
       "</style>\n",
       "<table border=\"1\" class=\"dataframe\">\n",
       "  <thead>\n",
       "    <tr style=\"text-align: right;\">\n",
       "      <th></th>\n",
       "      <th>Total_Individuals_in_Shelter</th>\n",
       "    </tr>\n",
       "    <tr>\n",
       "      <th>Date</th>\n",
       "      <th></th>\n",
       "    </tr>\n",
       "  </thead>\n",
       "  <tbody>\n",
       "    <tr>\n",
       "      <th>2013-08-21</th>\n",
       "      <td>49673</td>\n",
       "    </tr>\n",
       "    <tr>\n",
       "      <th>2013-08-22</th>\n",
       "      <td>49690</td>\n",
       "    </tr>\n",
       "    <tr>\n",
       "      <th>2013-08-23</th>\n",
       "      <td>49548</td>\n",
       "    </tr>\n",
       "    <tr>\n",
       "      <th>2013-08-24</th>\n",
       "      <td>49617</td>\n",
       "    </tr>\n",
       "    <tr>\n",
       "      <th>2013-08-25</th>\n",
       "      <td>49858</td>\n",
       "    </tr>\n",
       "  </tbody>\n",
       "</table>\n",
       "</div>"
      ],
      "text/plain": [
       "            Total_Individuals_in_Shelter\n",
       "Date                                    \n",
       "2013-08-21                         49673\n",
       "2013-08-22                         49690\n",
       "2013-08-23                         49548\n",
       "2013-08-24                         49617\n",
       "2013-08-25                         49858"
      ]
     },
     "execution_count": 33,
     "metadata": {},
     "output_type": "execute_result"
    }
   ],
   "source": [
    "dhs.head()"
   ]
  },
  {
   "cell_type": "code",
   "execution_count": 34,
   "metadata": {},
   "outputs": [],
   "source": [
    "# Q27: return the daily number during Nov, 2018\n"
   ]
  },
  {
   "cell_type": "code",
   "execution_count": 35,
   "metadata": {},
   "outputs": [],
   "source": [
    "# Q28: return the daily number from 2018-03-12 to 2018-10-29\n"
   ]
  },
  {
   "cell_type": "code",
   "execution_count": 36,
   "metadata": {},
   "outputs": [],
   "source": [
    "# Q29: return the daily number after 2017-01-01\n"
   ]
  },
  {
   "cell_type": "code",
   "execution_count": 37,
   "metadata": {},
   "outputs": [],
   "source": [
    "# Q30: return the daily number of every Friday\n"
   ]
  },
  {
   "cell_type": "code",
   "execution_count": 38,
   "metadata": {},
   "outputs": [],
   "source": [
    "# Q31: return the average number of different days of the week (Sunday, Monday, ...)\n"
   ]
  },
  {
   "cell_type": "markdown",
   "metadata": {},
   "source": [
    "### 2.3 Time Series: Date Range and Shifting"
   ]
  },
  {
   "cell_type": "code",
   "execution_count": 39,
   "metadata": {},
   "outputs": [],
   "source": [
    "# Q32: generate DatetimeIndex ranging from 2017-01-01 to 2018-01-01\n"
   ]
  },
  {
   "cell_type": "code",
   "execution_count": 40,
   "metadata": {},
   "outputs": [],
   "source": [
    "# Q33: generate DatetimeIndex of 100 days starting from 2017-01-01\n"
   ]
  },
  {
   "cell_type": "code",
   "execution_count": 41,
   "metadata": {},
   "outputs": [],
   "source": [
    "# Q34: generate DatetimeIndex of business days ranging from 2017-01-01 to 2018-01-01\n"
   ]
  },
  {
   "cell_type": "code",
   "execution_count": 42,
   "metadata": {},
   "outputs": [],
   "source": [
    "# Q35: generate DatetimeIndex of the dates of each Tuesday ranging from 2017-01-01 to 2018-01-01\n"
   ]
  },
  {
   "cell_type": "code",
   "execution_count": 43,
   "metadata": {},
   "outputs": [],
   "source": [
    "# Q36: generate DatetimeIndex of first calendar days of each month ranging from 2017-01-01 to 2019-7-31\n",
    "# e.g. 2017-01-01, 2017-02-01, ...\n"
   ]
  },
  {
   "cell_type": "code",
   "execution_count": 44,
   "metadata": {},
   "outputs": [],
   "source": [
    "# Q37: generate DatetimeIndex of last calendar days of each quarter ranging from 2017-01-01 to 2019-7-31 \n",
    "# e.g. 2017-03-31, 2017-06-30, 2017-09-30, ...\n"
   ]
  },
  {
   "cell_type": "code",
   "execution_count": 45,
   "metadata": {},
   "outputs": [],
   "source": [
    "# Q38: generate DatetimeIndex for every 4 hours ranging from 2017-01-01 00:00 to 2017-01-04 22:00\n"
   ]
  },
  {
   "cell_type": "code",
   "execution_count": 46,
   "metadata": {},
   "outputs": [],
   "source": [
    "# Q39: return the daily number in every first day of each month (using date range)\n"
   ]
  },
  {
   "cell_type": "code",
   "execution_count": 47,
   "metadata": {},
   "outputs": [],
   "source": [
    "# Q40: return the daily number of every Sunday (using date range)\n"
   ]
  },
  {
   "cell_type": "code",
   "execution_count": 48,
   "metadata": {},
   "outputs": [],
   "source": [
    "# Q41: create a new column: daily_change_percent, which record the daily change rate (day2 number/day1 number - 1)\n"
   ]
  },
  {
   "cell_type": "code",
   "execution_count": 49,
   "metadata": {},
   "outputs": [],
   "source": [
    "# Q42: return a new dataframe as described below:\n",
    "# - index: Date of each month's last day\n",
    "# - total_end_of_month: daily number of the corresponding day\n",
    "# - total_end_of_previous_month: daily number on the last day of previous month\n"
   ]
  },
  {
   "cell_type": "markdown",
   "metadata": {},
   "source": [
    "### 2.4 Time Series: Resampling"
   ]
  },
  {
   "cell_type": "code",
   "execution_count": 50,
   "metadata": {},
   "outputs": [],
   "source": [
    "# Q43: calculate the average number in each month and change the index to corresponding PeriodIndex (downsampling)\n"
   ]
  },
  {
   "cell_type": "code",
   "execution_count": 51,
   "metadata": {},
   "outputs": [],
   "source": [
    "# Q43: calculate the following metrics in each quarter and change the index to corresponding PeriodIndex (downsampling)\n",
    "# - mean\n",
    "# - max-min\n",
    "# - lastday/firstday-1\n"
   ]
  },
  {
   "cell_type": "code",
   "execution_count": 52,
   "metadata": {},
   "outputs": [
    {
     "data": {
      "text/html": [
       "<div>\n",
       "<style scoped>\n",
       "    .dataframe tbody tr th:only-of-type {\n",
       "        vertical-align: middle;\n",
       "    }\n",
       "\n",
       "    .dataframe tbody tr th {\n",
       "        vertical-align: top;\n",
       "    }\n",
       "\n",
       "    .dataframe thead th {\n",
       "        text-align: right;\n",
       "    }\n",
       "</style>\n",
       "<table border=\"1\" class=\"dataframe\">\n",
       "  <thead>\n",
       "    <tr style=\"text-align: right;\">\n",
       "      <th></th>\n",
       "      <th>a</th>\n",
       "    </tr>\n",
       "  </thead>\n",
       "  <tbody>\n",
       "    <tr>\n",
       "      <th>2019-01-01</th>\n",
       "      <td>-0.379247</td>\n",
       "    </tr>\n",
       "    <tr>\n",
       "      <th>2019-01-02</th>\n",
       "      <td>1.030130</td>\n",
       "    </tr>\n",
       "    <tr>\n",
       "      <th>2019-01-02</th>\n",
       "      <td>-1.474037</td>\n",
       "    </tr>\n",
       "    <tr>\n",
       "      <th>2019-01-03</th>\n",
       "      <td>0.743005</td>\n",
       "    </tr>\n",
       "    <tr>\n",
       "      <th>2019-01-05</th>\n",
       "      <td>-0.297177</td>\n",
       "    </tr>\n",
       "    <tr>\n",
       "      <th>2019-01-08</th>\n",
       "      <td>0.427858</td>\n",
       "    </tr>\n",
       "  </tbody>\n",
       "</table>\n",
       "</div>"
      ],
      "text/plain": [
       "                   a\n",
       "2019-01-01 -0.379247\n",
       "2019-01-02  1.030130\n",
       "2019-01-02 -1.474037\n",
       "2019-01-03  0.743005\n",
       "2019-01-05 -0.297177\n",
       "2019-01-08  0.427858"
      ]
     },
     "execution_count": 52,
     "metadata": {},
     "output_type": "execute_result"
    }
   ],
   "source": [
    "# The following problems use the DataFrame ex\n",
    "dates = pd.to_datetime(['2019-01-01', '2019-01-02', '2019-01-02', '2019-01-03', '2019-01-05', '2019-01-08'])\n",
    "ex = pd.DataFrame(np.random.randn(len(dates)), columns=['a'], index=dates)\n",
    "ex"
   ]
  },
  {
   "cell_type": "code",
   "execution_count": 53,
   "metadata": {},
   "outputs": [],
   "source": [
    "# Q44: check if duplicate dates exist. If yes, group by them using mean, assign the new DataFrame to ex\n"
   ]
  },
  {
   "cell_type": "code",
   "execution_count": 54,
   "metadata": {},
   "outputs": [],
   "source": [
    "# Q45: suppose the ex should be daily basis, check if some dates are missing in ex.\n",
    "# If yes, add the missing dates into ex and fill the missing value using the value of previous day (upsampling)\n"
   ]
  },
  {
   "cell_type": "markdown",
   "metadata": {},
   "source": [
    "### 2.5 Time Series: Moving Window Function"
   ]
  },
  {
   "cell_type": "code",
   "execution_count": 55,
   "metadata": {},
   "outputs": [],
   "source": [
    "# The following problems use the DataFrame dhs\n",
    "# Q46: calculate the average number of last 7 days\n"
   ]
  },
  {
   "cell_type": "code",
   "execution_count": 56,
   "metadata": {},
   "outputs": [],
   "source": [
    "# Q47: calculate the standard deviation of the number from day 1 up to now\n"
   ]
  },
  {
   "cell_type": "markdown",
   "metadata": {},
   "source": [
    "## 3. Rewrite SQL in Pandas"
   ]
  },
  {
   "cell_type": "markdown",
   "metadata": {},
   "source": [
    "### 3.1 Basics"
   ]
  },
  {
   "cell_type": "markdown",
   "metadata": {},
   "source": [
    "In *salary* table, the salary of employees are recorded.\n",
    "- Id: ID of the employee\n",
    "- Name: Name of the employee\n",
    "- Salary: Monthly salary of the employee\n",
    "- DepartmentId: ID of the department that the employee belongs to\n",
    "\n",
    "In *dp* table,\n",
    "- Id: ID of the department\n",
    "- Name: Name of the department\n",
    "\n",
    "Rewrite the query to generate same table (DataFrame) by using Pandas"
   ]
  },
  {
   "cell_type": "code",
   "execution_count": 57,
   "metadata": {},
   "outputs": [
    {
     "data": {
      "text/html": [
       "<div>\n",
       "<style scoped>\n",
       "    .dataframe tbody tr th:only-of-type {\n",
       "        vertical-align: middle;\n",
       "    }\n",
       "\n",
       "    .dataframe tbody tr th {\n",
       "        vertical-align: top;\n",
       "    }\n",
       "\n",
       "    .dataframe thead th {\n",
       "        text-align: right;\n",
       "    }\n",
       "</style>\n",
       "<table border=\"1\" class=\"dataframe\">\n",
       "  <thead>\n",
       "    <tr style=\"text-align: right;\">\n",
       "      <th></th>\n",
       "      <th>Id</th>\n",
       "      <th>Name</th>\n",
       "      <th>Salary</th>\n",
       "      <th>DepartmentId</th>\n",
       "    </tr>\n",
       "  </thead>\n",
       "  <tbody>\n",
       "    <tr>\n",
       "      <th>0</th>\n",
       "      <td>1</td>\n",
       "      <td>William</td>\n",
       "      <td>1600</td>\n",
       "      <td>1</td>\n",
       "    </tr>\n",
       "    <tr>\n",
       "      <th>1</th>\n",
       "      <td>2</td>\n",
       "      <td>James</td>\n",
       "      <td>1140</td>\n",
       "      <td>2</td>\n",
       "    </tr>\n",
       "    <tr>\n",
       "      <th>2</th>\n",
       "      <td>3</td>\n",
       "      <td>Harper</td>\n",
       "      <td>4788</td>\n",
       "      <td>2</td>\n",
       "    </tr>\n",
       "    <tr>\n",
       "      <th>3</th>\n",
       "      <td>4</td>\n",
       "      <td>Mason</td>\n",
       "      <td>6567</td>\n",
       "      <td>2</td>\n",
       "    </tr>\n",
       "    <tr>\n",
       "      <th>4</th>\n",
       "      <td>5</td>\n",
       "      <td>Evelyn</td>\n",
       "      <td>1112</td>\n",
       "      <td>1</td>\n",
       "    </tr>\n",
       "  </tbody>\n",
       "</table>\n",
       "</div>"
      ],
      "text/plain": [
       "   Id     Name  Salary  DepartmentId\n",
       "0   1  William    1600             1\n",
       "1   2    James    1140             2\n",
       "2   3   Harper    4788             2\n",
       "3   4    Mason    6567             2\n",
       "4   5   Evelyn    1112             1"
      ]
     },
     "execution_count": 57,
     "metadata": {},
     "output_type": "execute_result"
    }
   ],
   "source": [
    "salary = pd.read_csv(r'data/salary.csv')\n",
    "salary.head()"
   ]
  },
  {
   "cell_type": "code",
   "execution_count": 58,
   "metadata": {},
   "outputs": [
    {
     "data": {
      "text/html": [
       "<div>\n",
       "<style scoped>\n",
       "    .dataframe tbody tr th:only-of-type {\n",
       "        vertical-align: middle;\n",
       "    }\n",
       "\n",
       "    .dataframe tbody tr th {\n",
       "        vertical-align: top;\n",
       "    }\n",
       "\n",
       "    .dataframe thead th {\n",
       "        text-align: right;\n",
       "    }\n",
       "</style>\n",
       "<table border=\"1\" class=\"dataframe\">\n",
       "  <thead>\n",
       "    <tr style=\"text-align: right;\">\n",
       "      <th></th>\n",
       "      <th>Id</th>\n",
       "      <th>Name</th>\n",
       "    </tr>\n",
       "  </thead>\n",
       "  <tbody>\n",
       "    <tr>\n",
       "      <th>0</th>\n",
       "      <td>1</td>\n",
       "      <td>IT</td>\n",
       "    </tr>\n",
       "    <tr>\n",
       "      <th>1</th>\n",
       "      <td>2</td>\n",
       "      <td>DS</td>\n",
       "    </tr>\n",
       "    <tr>\n",
       "      <th>2</th>\n",
       "      <td>3</td>\n",
       "      <td>Sales</td>\n",
       "    </tr>\n",
       "    <tr>\n",
       "      <th>3</th>\n",
       "      <td>4</td>\n",
       "      <td>HR</td>\n",
       "    </tr>\n",
       "    <tr>\n",
       "      <th>4</th>\n",
       "      <td>5</td>\n",
       "      <td>Finance</td>\n",
       "    </tr>\n",
       "    <tr>\n",
       "      <th>5</th>\n",
       "      <td>6</td>\n",
       "      <td>Product</td>\n",
       "    </tr>\n",
       "  </tbody>\n",
       "</table>\n",
       "</div>"
      ],
      "text/plain": [
       "   Id     Name\n",
       "0   1       IT\n",
       "1   2       DS\n",
       "2   3    Sales\n",
       "3   4       HR\n",
       "4   5  Finance\n",
       "5   6  Product"
      ]
     },
     "execution_count": 58,
     "metadata": {},
     "output_type": "execute_result"
    }
   ],
   "source": [
    "dp = pd.read_csv(r'data/department.csv')\n",
    "dp"
   ]
  },
  {
   "cell_type": "code",
   "execution_count": 59,
   "metadata": {},
   "outputs": [
    {
     "data": {
      "text/plain": [
       "'\\nSELECT DISTINCT Salary AS secondhigh\\nFROM salary\\nORDER BY Salary DESC\\nLIMIT 1 OFFSET 1\\n'"
      ]
     },
     "execution_count": 59,
     "metadata": {},
     "output_type": "execute_result"
    }
   ],
   "source": [
    "# Q48: get the second highest value of salary among all employees\n",
    "'''\n",
    "SELECT DISTINCT Salary AS secondhigh\n",
    "FROM salary\n",
    "ORDER BY Salary DESC\n",
    "LIMIT 1 OFFSET 1\n",
    "'''\n"
   ]
  },
  {
   "cell_type": "code",
   "execution_count": 60,
   "metadata": {},
   "outputs": [
    {
     "data": {
      "text/plain": [
       "'\\nSELECT Name, Salary\\nFROM salary\\nWHERE Salary>2000 AND (DepartmentId=1 OR DepartmentId=2)\\nORDER BY Salary\\n'"
      ]
     },
     "execution_count": 60,
     "metadata": {},
     "output_type": "execute_result"
    }
   ],
   "source": [
    "# Q49: query the Name and Salary of employees who satisfies the following conditions\n",
    "# - salary is greater than 2000\n",
    "# - in department 1 and 2\n",
    "# order the results by Salary from low to high\n",
    "'''\n",
    "SELECT Name, Salary\n",
    "FROM salary\n",
    "WHERE Salary>2000 AND (DepartmentId=1 OR DepartmentId=2)\n",
    "ORDER BY Salary\n",
    "'''\n"
   ]
  },
  {
   "cell_type": "code",
   "execution_count": 61,
   "metadata": {},
   "outputs": [
    {
     "data": {
      "text/plain": [
       "'\\nSELECT d.Name, sub.avg_salary\\nFROM dp d\\nLEFT JOIN (SELECT DepartmentId, AVG(Salary) AS avg_salary FROM salary GROUP BY DepartmentId) sub ON sub.DepartmentId=d.Id\\nORDER BY sub.avg_salary DESC\\n'"
      ]
     },
     "execution_count": 61,
     "metadata": {},
     "output_type": "execute_result"
    }
   ],
   "source": [
    "# Q50: query the average salary of each department, the table contains two column:\n",
    "# -name: name of the department\n",
    "# -avg_salary: average salary of the department\n",
    "# All departments in dp should be listed. If there aren't any employees belonging to a department in salary table,\n",
    "# then avg_salary should be np.nan\n",
    "# Order by average salary from high to low\n",
    "'''\n",
    "SELECT d.Name, sub.avg_salary\n",
    "FROM dp d\n",
    "LEFT JOIN (SELECT DepartmentId, AVG(Salary) AS avg_salary FROM salary GROUP BY DepartmentId) sub ON sub.DepartmentId=d.Id\n",
    "ORDER BY sub.avg_salary DESC\n",
    "'''\n"
   ]
  },
  {
   "cell_type": "code",
   "execution_count": 62,
   "metadata": {},
   "outputs": [
    {
     "data": {
      "text/plain": [
       "'\\nSELECT Name\\nFROM salary\\nWHERE Id IN (1,3,7,9,14,15,19)\\n'"
      ]
     },
     "execution_count": 62,
     "metadata": {},
     "output_type": "execute_result"
    }
   ],
   "source": [
    "# Q51: return the employee's name whose id is in the following list: [1,3,7,9,14,15,19]\n",
    "'''\n",
    "SELECT Name\n",
    "FROM salary\n",
    "WHERE Id IN (1,3,7,9,14,15,19)\n",
    "'''\n"
   ]
  },
  {
   "cell_type": "code",
   "execution_count": 63,
   "metadata": {},
   "outputs": [
    {
     "data": {
      "text/plain": [
       "'\\nSELECT DepartmentId AS Id, AVG(Salary) AS avg_salary, COUNT(Id) AS employee_num\\nFROM Salary\\nGROUP BY DepartmentId\\nHAVING COUNT(Id)>=5\\n'"
      ]
     },
     "execution_count": 63,
     "metadata": {},
     "output_type": "execute_result"
    }
   ],
   "source": [
    "# Q52: query the average salary of the department, in which the number of employees arenot less than 5\n",
    "# the table contains three column:\n",
    "# -Id: ID of the department\n",
    "# -avg_salary: average salary of the department\n",
    "# -employee_num: number of employees in that department\n",
    "'''\n",
    "SELECT DepartmentId AS Id, AVG(Salary) AS avg_salary, COUNT(Id) AS employee_num\n",
    "FROM Salary\n",
    "GROUP BY DepartmentId\n",
    "HAVING COUNT(Id)>=5\n",
    "'''\n"
   ]
  },
  {
   "cell_type": "code",
   "execution_count": 64,
   "metadata": {},
   "outputs": [
    {
     "data": {
      "text/plain": [
       "'\\nWITH sub AS(\\nSELECT DepartmentId, Name AS employee, Salary AS salary,\\n       DENSE_RANK() OVER (PARTITION BY DepartmentId ORDER BY Salary DESC) AS ranks\\nFROM salary\\n)\\n\\nSELECT d.Name AS department, sub.employee, sub.salary\\nFROM sub\\nLEFT JOIN dp d ON d.Id=sub.DepartmentId\\nWHERE sub.ranks <= 3\\n'"
      ]
     },
     "execution_count": 64,
     "metadata": {},
     "output_type": "execute_result"
    }
   ],
   "source": [
    "# Q53: query the top 3 Salaries of each department. Only the departments appear in salary table should be returned\n",
    "# the table contains three column:\n",
    "# -department: Name of the department\n",
    "# -employee: Name of the employee\n",
    "# -salary: salary of the employee\n",
    "# Note: rank the salary using dense rank \n",
    "# e.g. a-1000, b-800, c-800, d-600, b and c both earn the second highest salary, d earn the third highest salary\n",
    "# a, b, c and d should be all included\n",
    "'''\n",
    "WITH sub AS(\n",
    "SELECT DepartmentId, Name AS employee, Salary AS salary,\n",
    "       DENSE_RANK() OVER (PARTITION BY DepartmentId ORDER BY Salary DESC) AS ranks\n",
    "FROM salary\n",
    ")\n",
    "\n",
    "SELECT d.Name AS department, sub.employee, sub.salary\n",
    "FROM sub\n",
    "LEFT JOIN dp d ON d.Id=sub.DepartmentId\n",
    "WHERE sub.ranks <= 3\n",
    "'''\n"
   ]
  },
  {
   "cell_type": "markdown",
   "metadata": {},
   "source": [
    "In *sales* table, the daily revenue from 2020-01-01 to 2020-02-29 of product 1, 2 and 3 are recorded. We can assume the dates in the table are continuous and there are no duplicates.\n",
    "- Id: Product ID\n",
    "- Date: Date\n",
    "- Revenue: Daily revenue\n",
    "\n",
    "Rewrite the query to generate same table (DataFrame) by using Pandas"
   ]
  },
  {
   "cell_type": "code",
   "execution_count": 65,
   "metadata": {},
   "outputs": [
    {
     "data": {
      "text/html": [
       "<div>\n",
       "<style scoped>\n",
       "    .dataframe tbody tr th:only-of-type {\n",
       "        vertical-align: middle;\n",
       "    }\n",
       "\n",
       "    .dataframe tbody tr th {\n",
       "        vertical-align: top;\n",
       "    }\n",
       "\n",
       "    .dataframe thead th {\n",
       "        text-align: right;\n",
       "    }\n",
       "</style>\n",
       "<table border=\"1\" class=\"dataframe\">\n",
       "  <thead>\n",
       "    <tr style=\"text-align: right;\">\n",
       "      <th></th>\n",
       "      <th>Id</th>\n",
       "      <th>Date</th>\n",
       "      <th>Revenue</th>\n",
       "    </tr>\n",
       "  </thead>\n",
       "  <tbody>\n",
       "    <tr>\n",
       "      <th>0</th>\n",
       "      <td>3</td>\n",
       "      <td>1/19/2020</td>\n",
       "      <td>718</td>\n",
       "    </tr>\n",
       "    <tr>\n",
       "      <th>1</th>\n",
       "      <td>1</td>\n",
       "      <td>1/22/2020</td>\n",
       "      <td>690</td>\n",
       "    </tr>\n",
       "    <tr>\n",
       "      <th>2</th>\n",
       "      <td>2</td>\n",
       "      <td>1/22/2020</td>\n",
       "      <td>172</td>\n",
       "    </tr>\n",
       "    <tr>\n",
       "      <th>3</th>\n",
       "      <td>1</td>\n",
       "      <td>2/22/2020</td>\n",
       "      <td>139</td>\n",
       "    </tr>\n",
       "    <tr>\n",
       "      <th>4</th>\n",
       "      <td>2</td>\n",
       "      <td>2/22/2020</td>\n",
       "      <td>707</td>\n",
       "    </tr>\n",
       "  </tbody>\n",
       "</table>\n",
       "</div>"
      ],
      "text/plain": [
       "   Id       Date  Revenue\n",
       "0   3  1/19/2020      718\n",
       "1   1  1/22/2020      690\n",
       "2   2  1/22/2020      172\n",
       "3   1  2/22/2020      139\n",
       "4   2  2/22/2020      707"
      ]
     },
     "execution_count": 65,
     "metadata": {},
     "output_type": "execute_result"
    }
   ],
   "source": [
    "sales = pd.read_csv(r'data/sales.csv')\n",
    "sales.head()"
   ]
  },
  {
   "cell_type": "code",
   "execution_count": 66,
   "metadata": {},
   "outputs": [
    {
     "data": {
      "text/plain": [
       "'\\nSELECT Id, Date, SUM(Revenue) OVER (PARTITION BY Id ORDER BY Date) AS cum_revenue\\nFROM sales\\nORDER BY Id, Date\\n'"
      ]
     },
     "execution_count": 66,
     "metadata": {},
     "output_type": "execute_result"
    }
   ],
   "source": [
    "# Q54: query the cumulative revenue from day 1 for each product. Order the results by Id (1,2,3) and Date (low to high)\n",
    "'''\n",
    "SELECT Id, Date, SUM(Revenue) OVER (PARTITION BY Id ORDER BY Date) AS cum_revenue\n",
    "FROM sales\n",
    "ORDER BY Id, Date\n",
    "'''\n"
   ]
  },
  {
   "cell_type": "code",
   "execution_count": 67,
   "metadata": {},
   "outputs": [
    {
     "data": {
      "text/plain": [
       "'\\nSELECT LEFT(Date, 7) AS month, Id, SUM(Revenue)\\nFROM sales\\nGROUP BY LEFT(Date, 7), Id\\n'"
      ]
     },
     "execution_count": 67,
     "metadata": {},
     "output_type": "execute_result"
    }
   ],
   "source": [
    "# Q55: return each product's total revenue in Jan and Feb of 2020 \n",
    "'''\n",
    "SELECT LEFT(Date, 7) AS month, Id, SUM(Revenue)\n",
    "FROM sales\n",
    "GROUP BY LEFT(Date, 7), Id\n",
    "'''\n"
   ]
  },
  {
   "cell_type": "code",
   "execution_count": 68,
   "metadata": {},
   "outputs": [
    {
     "data": {
      "text/plain": [
       "\"\\nSELECT Date, SUM(Revenue)\\nFROM sales\\nWHERE Date BETWEEN '2020-01-15' AND '2020-02-03'\\nGROUP BY Date\\n\""
      ]
     },
     "execution_count": 68,
     "metadata": {},
     "output_type": "execute_result"
    }
   ],
   "source": [
    "# Q56: return total daily revenue from 2020-01-15 to 2020-02-03 \n",
    "'''\n",
    "SELECT Date, SUM(Revenue)\n",
    "FROM sales\n",
    "WHERE Date BETWEEN '2020-01-15' AND '2020-02-03'\n",
    "GROUP BY Date\n",
    "'''\n"
   ]
  },
  {
   "cell_type": "code",
   "execution_count": 69,
   "metadata": {},
   "outputs": [
    {
     "data": {
      "text/plain": [
       "\"\\nSELECT Id,\\n       SUM(CASE WHEN dow=2 THEN total ELSE 0 END) 'Monday',\\n       SUM(CASE WHEN dow=3 THEN total ELSE 0 END) 'Tuesday',\\n       SUM(CASE WHEN dow=4 THEN total ELSE 0 END) 'Wednesday',\\n       SUM(CASE WHEN dow=5 THEN total ELSE 0 END) 'Thursday',\\n       SUM(CASE WHEN dow=6 THEN total ELSE 0 END) 'Friday',\\n       SUM(CASE WHEN dow=7 THEN total ELSE 0 END) 'Saturday',\\n       SUM(CASE WHEN dow=1 THEN total ELSE 0 END) 'Sunday'\\nFROM\\n(\\nSELECT Id,\\n       DAYOFWEEK(Date) AS dow,\\n       SUM(Revenue) AS total\\nFROM sales\\nGROUP BY Id, dow) sub\\nGROUP BY Id\\n\""
      ]
     },
     "execution_count": 69,
     "metadata": {},
     "output_type": "execute_result"
    }
   ],
   "source": [
    "# Q57: return each product's total revenue on each day of the week. Columns of the table are:\n",
    "# - id: product ID\n",
    "# - monday: total revenue on Monday\n",
    "# - tuesday: total revenue on Tuesday\n",
    "# ......\n",
    "# - sunday: total revenue on Sunday\n",
    "'''\n",
    "SELECT Id,\n",
    "       SUM(CASE WHEN dow=2 THEN total ELSE 0 END) 'Monday',\n",
    "       SUM(CASE WHEN dow=3 THEN total ELSE 0 END) 'Tuesday',\n",
    "       SUM(CASE WHEN dow=4 THEN total ELSE 0 END) 'Wednesday',\n",
    "       SUM(CASE WHEN dow=5 THEN total ELSE 0 END) 'Thursday',\n",
    "       SUM(CASE WHEN dow=6 THEN total ELSE 0 END) 'Friday',\n",
    "       SUM(CASE WHEN dow=7 THEN total ELSE 0 END) 'Saturday',\n",
    "       SUM(CASE WHEN dow=1 THEN total ELSE 0 END) 'Sunday'\n",
    "FROM\n",
    "(\n",
    "SELECT Id,\n",
    "       DAYOFWEEK(Date) AS dow,\n",
    "       SUM(Revenue) AS total\n",
    "FROM sales\n",
    "GROUP BY Id, dow) sub\n",
    "GROUP BY Id\n",
    "'''\n"
   ]
  },
  {
   "cell_type": "code",
   "execution_count": 70,
   "metadata": {},
   "outputs": [
    {
     "data": {
      "text/plain": [
       "'\\nSELECT Id, Date, AVG(Revenue) OVER (ORDER BY Date ROWS BETWEEN 13 PRECEDING AND 0 FOLLOWING) AS rolling_avg\\nFROM sales\\nWHERE Date >= (SELECT DISTINCT Date FROM sales ORDER BY Date LIMIT 1 OFFSET 13)\\n'"
      ]
     },
     "execution_count": 70,
     "metadata": {},
     "output_type": "execute_result"
    }
   ],
   "source": [
    "# Q58: return the rolling average of daily revenue in last 14 days\n",
    "# - id: product ID\n",
    "# - date: date\n",
    "# - rolling_avg: average revenue in last 14 days\n",
    "# Note: the first 13 days shouldn't be included in the final output\n",
    "'''\n",
    "SELECT Id, Date, AVG(Revenue) OVER (ORDER BY Date ROWS BETWEEN 13 PRECEDING AND 0 FOLLOWING) AS rolling_avg\n",
    "FROM sales\n",
    "WHERE Date >= (SELECT DISTINCT Date FROM sales ORDER BY Date LIMIT 1 OFFSET 13)\n",
    "'''\n"
   ]
  },
  {
   "cell_type": "code",
   "execution_count": 71,
   "metadata": {},
   "outputs": [
    {
     "data": {
      "text/plain": [
       "'\\nSELECT Date, daily_total/LAG(daily_total, 1) OVER (ORDER BY Date)-1 AS change_rate\\nFROM(\\nSELECT Date, SUM(Revenue) AS daily_total\\nFROM sales\\nGROUP BY Date\\nORDER BY Date) sub\\n'"
      ]
     },
     "execution_count": 71,
     "metadata": {},
     "output_type": "execute_result"
    }
   ],
   "source": [
    "# Q59: calculate the daily changes in overall revenue of three products\n",
    "'''\n",
    "SELECT Date, daily_total/LAG(daily_total, 1) OVER (ORDER BY Date)-1 AS change_rate\n",
    "FROM(\n",
    "SELECT Date, SUM(Revenue) AS daily_total\n",
    "FROM sales\n",
    "GROUP BY Date\n",
    "ORDER BY Date) sub\n",
    "'''\n"
   ]
  },
  {
   "cell_type": "markdown",
   "metadata": {},
   "source": [
    "### 3.2 Case: Game Play Analysis"
   ]
  },
  {
   "cell_type": "markdown",
   "metadata": {},
   "source": [
    "This case contains a series of problems, which is modified from the SQL exercise in Leetcode.\n",
    "\n",
    "In *activity* table, each row is a record of a player who logged in and played a number of games (possibly 0) before logging out on some day using some device.\n",
    "- player_id: ID of the player\n",
    "- device_id: ID of the device\n",
    "- event_date: Date of the record\n",
    "- games_played: number of games played\n",
    "\n",
    "Rewrite the query to generate same table (DataFrame) by using Pandas"
   ]
  },
  {
   "cell_type": "code",
   "execution_count": 72,
   "metadata": {},
   "outputs": [
    {
     "data": {
      "text/html": [
       "<div>\n",
       "<style scoped>\n",
       "    .dataframe tbody tr th:only-of-type {\n",
       "        vertical-align: middle;\n",
       "    }\n",
       "\n",
       "    .dataframe tbody tr th {\n",
       "        vertical-align: top;\n",
       "    }\n",
       "\n",
       "    .dataframe thead th {\n",
       "        text-align: right;\n",
       "    }\n",
       "</style>\n",
       "<table border=\"1\" class=\"dataframe\">\n",
       "  <thead>\n",
       "    <tr style=\"text-align: right;\">\n",
       "      <th></th>\n",
       "      <th>player_id</th>\n",
       "      <th>device_id</th>\n",
       "      <th>event_date</th>\n",
       "      <th>games_played</th>\n",
       "    </tr>\n",
       "  </thead>\n",
       "  <tbody>\n",
       "    <tr>\n",
       "      <th>862</th>\n",
       "      <td>6</td>\n",
       "      <td>186</td>\n",
       "      <td>1/16/2019</td>\n",
       "      <td>5</td>\n",
       "    </tr>\n",
       "    <tr>\n",
       "      <th>887</th>\n",
       "      <td>13</td>\n",
       "      <td>178</td>\n",
       "      <td>3/15/2019</td>\n",
       "      <td>71</td>\n",
       "    </tr>\n",
       "    <tr>\n",
       "      <th>215</th>\n",
       "      <td>43</td>\n",
       "      <td>157</td>\n",
       "      <td>1/10/2019</td>\n",
       "      <td>45</td>\n",
       "    </tr>\n",
       "    <tr>\n",
       "      <th>812</th>\n",
       "      <td>34</td>\n",
       "      <td>38</td>\n",
       "      <td>2/3/2019</td>\n",
       "      <td>63</td>\n",
       "    </tr>\n",
       "    <tr>\n",
       "      <th>313</th>\n",
       "      <td>19</td>\n",
       "      <td>120</td>\n",
       "      <td>3/9/2019</td>\n",
       "      <td>54</td>\n",
       "    </tr>\n",
       "  </tbody>\n",
       "</table>\n",
       "</div>"
      ],
      "text/plain": [
       "     player_id  device_id event_date  games_played\n",
       "862          6        186  1/16/2019             5\n",
       "887         13        178  3/15/2019            71\n",
       "215         43        157  1/10/2019            45\n",
       "812         34         38   2/3/2019            63\n",
       "313         19        120   3/9/2019            54"
      ]
     },
     "execution_count": 72,
     "metadata": {},
     "output_type": "execute_result"
    }
   ],
   "source": [
    "activity = pd.read_csv(r'data/activity.csv')\n",
    "activity.sample(5)"
   ]
  },
  {
   "cell_type": "code",
   "execution_count": 73,
   "metadata": {},
   "outputs": [
    {
     "data": {
      "text/plain": [
       "'\\nSELECT player_id, MIN(event_date) AS first_login\\nFROM Activity\\nGROUP BY player_id\\n'"
      ]
     },
     "execution_count": 73,
     "metadata": {},
     "output_type": "execute_result"
    }
   ],
   "source": [
    "# Q60: report the first login date for each player.\n",
    "'''\n",
    "SELECT player_id, MIN(event_date) AS first_login\n",
    "FROM Activity\n",
    "GROUP BY player_id\n",
    "'''\n"
   ]
  },
  {
   "cell_type": "code",
   "execution_count": 74,
   "metadata": {},
   "outputs": [
    {
     "data": {
      "text/plain": [
       "'\\nSELECT player_id, device_id\\nFROM\\n(SELECT player_id, device_id, RANK() OVER (PARTITION BY player_id ORDER BY event_date) AS ranks FROM Activity) sub\\nWHERE ranks = 1\\n'"
      ]
     },
     "execution_count": 74,
     "metadata": {},
     "output_type": "execute_result"
    }
   ],
   "source": [
    "# Q61: report the device that is first logged in for each player.\n",
    "'''\n",
    "SELECT player_id, device_id\n",
    "FROM\n",
    "(SELECT player_id, device_id, RANK() OVER (PARTITION BY player_id ORDER BY event_date) AS ranks FROM Activity) sub\n",
    "WHERE ranks = 1\n",
    "'''\n"
   ]
  },
  {
   "cell_type": "code",
   "execution_count": 75,
   "metadata": {},
   "outputs": [
    {
     "data": {
      "text/plain": [
       "'\\nSELECT a1.player_id, a1.event_date, SUM(a2.games_played) AS games_played_so_far\\nFROM Activity a1\\nLEFT JOIN Activity a2 ON a1.player_id=a2.player_id AND a1.event_date >= a2.event_date\\nGROUP BY a1.player_id, a1.event_date\\nORDER BY a1.player_id, a1.event_date\\n'"
      ]
     },
     "execution_count": 75,
     "metadata": {},
     "output_type": "execute_result"
    }
   ],
   "source": [
    "# Q62: report for each player and date, how many games played so far by the player. \n",
    "# That is, the total number of games played by the player until that date.\n",
    "'''\n",
    "SELECT a1.player_id, a1.event_date, SUM(a2.games_played) AS games_played_so_far\n",
    "FROM Activity a1\n",
    "LEFT JOIN Activity a2 ON a1.player_id=a2.player_id AND a1.event_date >= a2.event_date\n",
    "GROUP BY a1.player_id, a1.event_date\n",
    "ORDER BY a1.player_id, a1.event_date\n",
    "'''\n"
   ]
  },
  {
   "cell_type": "code",
   "execution_count": 76,
   "metadata": {},
   "outputs": [
    {
     "data": {
      "text/plain": [
       "'\\nWITH firstlog AS\\n(\\nSELECT player_id, event_date, RANK() OVER (PARTITION BY player_id ORDER BY event_date) AS ranks\\nFROM Activity\\n),\\n\\ndaytwo AS\\n(\\nSELECT a1.player_id\\nFROM firstlog a1, firstlog a2\\nWHERE a1.player_id=a2.player_id AND DATEDIFF(a2.event_date, a1.event_date) = 1 AND a1.ranks=1\\n)\\n\\nSELECT ROUND(COUNT(DISTINCT daytwo.player_id)/COUNT(DISTINCT a.player_id),2) AS fraction\\nFROM daytwo, Activity a\\n'"
      ]
     },
     "execution_count": 76,
     "metadata": {},
     "output_type": "execute_result"
    }
   ],
   "source": [
    "# Q63: report the fraction of players that logged in again on the day after the day they first logged in. \n",
    "# In other words, count the number of players that logged in for at least two consecutive days \n",
    "# starting from their first login date, then divide that number by the total number of players.\n",
    "'''\n",
    "WITH firstlog AS\n",
    "(\n",
    "SELECT player_id, event_date, RANK() OVER (PARTITION BY player_id ORDER BY event_date) AS ranks\n",
    "FROM Activity\n",
    "),\n",
    "\n",
    "daytwo AS\n",
    "(\n",
    "SELECT a1.player_id\n",
    "FROM firstlog a1, firstlog a2\n",
    "WHERE a1.player_id=a2.player_id AND DATEDIFF(a2.event_date, a1.event_date) = 1 AND a1.ranks=1\n",
    ")\n",
    "\n",
    "SELECT ROUND(COUNT(DISTINCT daytwo.player_id)/COUNT(DISTINCT a.player_id),2) AS fraction\n",
    "FROM daytwo, Activity a\n",
    "'''\n"
   ]
  },
  {
   "cell_type": "code",
   "execution_count": 77,
   "metadata": {},
   "outputs": [
    {
     "data": {
      "text/plain": [
       "'\\nSELECT a1.register_date AS install_dt,\\n       COUNT(a1.register_date) AS installs,\\n       ROUND(COUNT(a2.event_date) / COUNT(a1.register_date)*1.0,2) AS d1_retention\\nFROM \\n    (SELECT player_id, MIN(event_date) AS register_date\\n     FROM Activity\\n     GROUP BY player_id) a1\\nLEFT JOIN Activity a2 ON a1.player_id = a2.player_id AND DATEDIFF(a2.event_date, a1.register_date) =1\\nGROUP BY a1.register_date\\n'"
      ]
     },
     "execution_count": 77,
     "metadata": {},
     "output_type": "execute_result"
    }
   ],
   "source": [
    "# Q64: define the install date of a player to be the first login day of that player.\n",
    "# define day 1 retention of some date X to be the number of players whose install date is X and \n",
    "# they logged back in on the day right after X, divided by the number of players whose install date is X.\n",
    "# report for each install date, the number of players that installed the game on that day and the day 1 retention.\n",
    "# - install_dt: install date\n",
    "# - installs: the number of players that installed the game on that day\n",
    "# - d1_retention: day 1 retention rate of the install date\n",
    "'''\n",
    "SELECT a1.register_date AS install_dt,\n",
    "       COUNT(a1.register_date) AS installs,\n",
    "       ROUND(COUNT(a2.event_date) / COUNT(a1.register_date)*1.0,2) AS d1_retention\n",
    "FROM \n",
    "    (SELECT player_id, MIN(event_date) AS register_date\n",
    "     FROM Activity\n",
    "     GROUP BY player_id) a1\n",
    "LEFT JOIN Activity a2 ON a1.player_id = a2.player_id AND DATEDIFF(a2.event_date, a1.register_date) =1\n",
    "GROUP BY a1.register_date\n",
    "'''\n"
   ]
  }
 ],
 "metadata": {
  "kernelspec": {
   "display_name": "Python 3",
   "language": "python",
   "name": "python3"
  },
  "language_info": {
   "codemirror_mode": {
    "name": "ipython",
    "version": 3
   },
   "file_extension": ".py",
   "mimetype": "text/x-python",
   "name": "python",
   "nbconvert_exporter": "python",
   "pygments_lexer": "ipython3",
   "version": "3.7.3"
  }
 },
 "nbformat": 4,
 "nbformat_minor": 2
}
